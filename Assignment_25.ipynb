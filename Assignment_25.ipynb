{
 "cells": [
  {
   "cell_type": "markdown",
   "id": "866e7b3f",
   "metadata": {},
   "source": [
    "Q1. What is the distinction between a numpy array and a pandas data frame? Is there a way to\n",
    "convert between the two if there is?\n",
    "\n",
    "Ans: Numpy Array - It is a type of multi-dimensional data structure in Python which can store objects of similar data types. The elements of the array are indexed by non-negative or positive integers. It is mutable. Arrays are a lot useful for performing mathematical operations on vectors.\n",
    "\n",
    "Pandas Dataframe - It is a two-dimensional, tabular, mutable data structure in Python that can store tabular data containing objects of different data types. A DataFrame has labeled axes in the form of rows and columns. DataFrames are useful tools in data pre-processing as it provides useful methods for data handling."
   ]
  },
  {
   "cell_type": "code",
   "execution_count": 2,
   "id": "d4d8ca90",
   "metadata": {},
   "outputs": [
    {
     "name": "stdout",
     "output_type": "stream",
     "text": [
      "[['Divya' 30]\n",
      " ['Ash' 28]\n",
      " ['Rajiv' 36]]\n"
     ]
    }
   ],
   "source": [
    "import pandas as pd\n",
    "import numpy as np\n",
    "\n",
    "data = {\"Name\": ['Divya', 'Ash', 'Rajiv'],\n",
    "       \"Age\": [30,28,36]}\n",
    "\n",
    "df = pd.DataFrame(data, columns={'Name','Age'})\n",
    "\n",
    "arr = df.to_numpy()\n",
    "\n",
    "print(arr)"
   ]
  },
  {
   "cell_type": "code",
   "execution_count": 3,
   "id": "d216f820",
   "metadata": {},
   "outputs": [
    {
     "name": "stdout",
     "output_type": "stream",
     "text": [
      "    Name  Age\n",
      "0  Divya   30\n",
      "1    Ash   28\n",
      "2  Rajiv   36\n"
     ]
    }
   ],
   "source": [
    "print(df)"
   ]
  },
  {
   "cell_type": "markdown",
   "id": "e66274cb",
   "metadata": {},
   "source": [
    "Q2. What can go wrong when an user enters in a stock-ticker symbol, and how do you handle it?\n",
    "\n",
    "Ans: A ticker symbol or stock symbol is an abbreviation used to uniquely identify publicly traded shares of a particular stock on a particular stock market. It is not static and can change in case of any aletrations which might throw an error. It can be handled through try except else and finally block method."
   ]
  },
  {
   "cell_type": "markdown",
   "id": "9347ed3d",
   "metadata": {},
   "source": [
    "Q3. Identify some of the plotting techniques that are used to produce a stock-market chart.\n",
    "\n",
    "Ans: Line Chart, Candlestick Chart, Renko Chart, and Point and Figure charts using matplotlib."
   ]
  },
  {
   "cell_type": "markdown",
   "id": "9e66335f",
   "metadata": {},
   "source": [
    "Q4. Why is it essential to print a legend on a stock market chart?\n",
    "\n",
    "Ans: Legend on a stock market chart is essential for better or easy understanding of stock trends of multiple companies which makes the analysis easy and clear."
   ]
  },
  {
   "cell_type": "markdown",
   "id": "73969c23",
   "metadata": {},
   "source": [
    "Q5. What is the best way to limit the length of a pandas data frame to less than a year?\n",
    "\n",
    "Ans: truncate()"
   ]
  },
  {
   "cell_type": "markdown",
   "id": "df2a7070",
   "metadata": {},
   "source": [
    "Q6. What is the definition of a 180-day moving average?\n",
    "\n",
    "Ans: 180-day moving average is adding up closing prices for a certain time period and then dividing the total by the number of days."
   ]
  },
  {
   "cell_type": "markdown",
   "id": "c821ba95",
   "metadata": {},
   "source": [
    "Q7. Did the chapter's final example use 'indirect' importing? If so, how exactly do you do it?\n",
    "\n",
    "Ans: Yes, it is done when a company buys products from someone in another country using an intermediary (= a person or organization that arranges business agreements)."
   ]
  }
 ],
 "metadata": {
  "kernelspec": {
   "display_name": "Python 3 (ipykernel)",
   "language": "python",
   "name": "python3"
  },
  "language_info": {
   "codemirror_mode": {
    "name": "ipython",
    "version": 3
   },
   "file_extension": ".py",
   "mimetype": "text/x-python",
   "name": "python",
   "nbconvert_exporter": "python",
   "pygments_lexer": "ipython3",
   "version": "3.9.7"
  }
 },
 "nbformat": 4,
 "nbformat_minor": 5
}
