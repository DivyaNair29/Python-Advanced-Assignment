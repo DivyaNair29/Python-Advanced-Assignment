{
 "cells": [
  {
   "cell_type": "markdown",
   "id": "b42d092b",
   "metadata": {},
   "source": [
    "Q1. What is the difference between __getattr__ and __getattribute__?\n",
    "\n",
    "Ans: \n",
    "getattr: Is executed as the last resource when attribute is not found in an object.\n",
    "getattribute: Is used to retrieve an attribute from an instance. "
   ]
  },
  {
   "cell_type": "markdown",
   "id": "4e573082",
   "metadata": {},
   "source": [
    "Q2. What is the difference between properties and descriptors?\n",
    "\n",
    "Ans:  Descriptors are a low-level mechanism that lets us hook into an object's attributes being accessed. Properties are a high-level application of this. that is, properties are implemented using descriptors."
   ]
  },
  {
   "cell_type": "markdown",
   "id": "a6be4629",
   "metadata": {},
   "source": [
    "Q3. What are the key differences in functionality between __getattr__ and __getattribute__, as well as\n",
    "properties and descriptors?\n",
    "\n",
    "Ans:  A key difference between getattr and getattribute is that getattr is only invoked if the attribute wasn't found the usual ways. It's good for implementing a fallback for missing attributes and is probably the one of two you want.\n",
    "Whereas, descriptor helps us access object's attribute and properties are implemented using descriptors."
   ]
  }
 ],
 "metadata": {
  "kernelspec": {
   "display_name": "Python 3 (ipykernel)",
   "language": "python",
   "name": "python3"
  },
  "language_info": {
   "codemirror_mode": {
    "name": "ipython",
    "version": 3
   },
   "file_extension": ".py",
   "mimetype": "text/x-python",
   "name": "python",
   "nbconvert_exporter": "python",
   "pygments_lexer": "ipython3",
   "version": "3.9.7"
  }
 },
 "nbformat": 4,
 "nbformat_minor": 5
}
