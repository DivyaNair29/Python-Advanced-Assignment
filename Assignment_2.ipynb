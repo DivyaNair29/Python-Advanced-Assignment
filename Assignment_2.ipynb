{
 "cells": [
  {
   "cell_type": "markdown",
   "id": "3262c86f",
   "metadata": {},
   "source": [
    "Q1. What is the relationship between classes and modules?\n",
    "\n",
    "Ans: Class - Classes in python are templates for creating objects. They contain variables and functions which define the class objects.\n",
    "\n",
    "Module - Modules are python programs that can be imported into another python program. Importing a module enables the usage of the module’s functions and variables into another program. Modules in Python are files with a .py extension using which we can reuse elements inside that file."
   ]
  },
  {
   "cell_type": "markdown",
   "id": "4007a08f",
   "metadata": {},
   "source": [
    "Q2. How do you make instances and classes?\n",
    "\n",
    "Ans: For Example:\n",
    "\n",
    "class Friends():\n",
    "        def__init__(self, name, age):\n",
    "                self.name = name\n",
    "                self.age = age\n",
    "                \n",
    "Here Friends is a class and self.name,self.age are instances.\n"
   ]
  },
  {
   "cell_type": "markdown",
   "id": "f7c8582e",
   "metadata": {},
   "source": [
    "Q3. Where and how should be class attributes created?\n",
    "\n",
    "Ans:Example - \n",
    "\n",
    "class Circle():\n",
    "        pi = 3.14\n",
    "        \n",
    "       def __init__(self,radius):\n",
    "           self.radius = radius\n",
    "           \n",
    "Here, pi is the class attribute, as it is outside the __init__ method, the class attribute can be accessed via instances of the class or via the class name."
   ]
  },
  {
   "cell_type": "markdown",
   "id": "821b00f7",
   "metadata": {},
   "source": [
    "Q4. Where and how are instance attributes created?\n",
    "\n",
    "Ans:Example - \n",
    "\n",
    "class Circle():\n",
    "        pi = 3.14\n",
    "        \n",
    "       def __init__(self,radius):\n",
    "           self.radius = radius\n",
    "           \n",
    "Here, radius is the instance attribute, as it is inside the __init__ method."
   ]
  },
  {
   "cell_type": "markdown",
   "id": "f8453107",
   "metadata": {},
   "source": [
    "Q5. What does the term \"self\" in a Python class mean?\n",
    "\n",
    "Ans: The \"self\" parameter is a reference to the current instance of the class, and is used to access variables that belongs to the class."
   ]
  },
  {
   "cell_type": "markdown",
   "id": "786db9f3",
   "metadata": {},
   "source": [
    "Q6. How does a Python class handle operator overloading?\n",
    "\n",
    "Ans: Operator Overloading means giving extended meaning beyond their predefined operational meaning. For example operator + is used to add two integers as well as join two strings and merge two lists. It is achievable because ‘+’ operator is overloaded by int class and str class.\n",
    "To overload the + operator, __add__() function in the class is implemented. \n",
    "That's how operator overloading is handled."
   ]
  },
  {
   "cell_type": "markdown",
   "id": "b742fdb1",
   "metadata": {},
   "source": [
    "Q7. When do you consider allowing operator overloading of your classes?\n",
    "\n",
    "Ans: When one or both operands are of a user-defined class or structure type, operator overloading makes it easier to specify user-defined implementation for such operations. "
   ]
  },
  {
   "cell_type": "markdown",
   "id": "4a6404f3",
   "metadata": {},
   "source": [
    "Q8. What is the most popular form of operator overloading?\n",
    "\n",
    "Ans: Adding up operator '+'."
   ]
  },
  {
   "cell_type": "markdown",
   "id": "47699f02",
   "metadata": {},
   "source": [
    "Q9. What are the two most important concepts to grasp in order to comprehend Python OOP code?\n",
    "\n",
    "Ans: Inheritance and Polymorphism are the two most important concepts."
   ]
  }
 ],
 "metadata": {
  "kernelspec": {
   "display_name": "Python 3 (ipykernel)",
   "language": "python",
   "name": "python3"
  },
  "language_info": {
   "codemirror_mode": {
    "name": "ipython",
    "version": 3
   },
   "file_extension": ".py",
   "mimetype": "text/x-python",
   "name": "python",
   "nbconvert_exporter": "python",
   "pygments_lexer": "ipython3",
   "version": "3.9.7"
  }
 },
 "nbformat": 4,
 "nbformat_minor": 5
}
