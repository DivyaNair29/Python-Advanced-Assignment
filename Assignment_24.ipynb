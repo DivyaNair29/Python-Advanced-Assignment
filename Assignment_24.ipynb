{
 "cells": [
  {
   "cell_type": "markdown",
   "id": "3d47f443",
   "metadata": {},
   "source": [
    "Q1. Is it permissible to use several import statements to import the same module? What would the\n",
    "goal be? Can you think of a situation where it would be beneficial?\n",
    "\n",
    "Ans:  If a module has already been imported, it's not loaded again. we will simply get a reference to the module that has already been imported."
   ]
  },
  {
   "cell_type": "markdown",
   "id": "27023dd5",
   "metadata": {},
   "source": [
    "Q2. What are some of a module's characteristics? (Name at least one.)\n",
    "\n",
    "Ans: \n",
    "- Module can be combined separately and stored in a library.\n",
    "- Module consists of instructions, processing logic and data.\n",
    "- It can be included in a program."
   ]
  },
  {
   "cell_type": "markdown",
   "id": "a9139de7",
   "metadata": {},
   "source": [
    "Q3. Circular importing, such as when two modules import each other, can lead to dependencies and\n",
    "bugs that aren't visible. How can you go about creating a program that avoids mutual importing?\n",
    "\n",
    "Ans: Circular importing can be avoided by merging two modules into one modules to avoid any dependencies and bugs."
   ]
  },
  {
   "cell_type": "markdown",
   "id": "b8b6c6b1",
   "metadata": {},
   "source": [
    "Q4. Why is _ _all_ _ in Python?\n",
    "\n",
    "Ans: The __all__ tells the semantically “public” names from the module. If there is a name in __all__, the users are expected to use it, and they can expect that it will not change. By default, Python will export all names that do not start with an _. we certainly could rely on this mechanism."
   ]
  },
  {
   "cell_type": "markdown",
   "id": "7b1d66cc",
   "metadata": {},
   "source": [
    "Q5. In what situation is it useful to refer to the _ _name_ _ attribute or the string '_ _main_ _'?\n",
    "\n",
    "Ans: __name__ is a built-in variable which evaluates to the name of the current module. Thus it can be used to check whether the current script is being run on its own or being imported somewhere else by combining it with if statement."
   ]
  },
  {
   "cell_type": "markdown",
   "id": "972aacd6",
   "metadata": {},
   "source": [
    "Q6. What are some of the benefits of attaching a program counter to the RPN interpreter\n",
    "application, which interprets an RPN script line by line?\n",
    "\n",
    "Ans: An advantage of reverse Polish notation is that it removes the need for parentheses that are required by infix notation. A program counter is also known as an instruction counter, instruction pointer, instruction address register or sequence control register. It is a digital counter needed for faster execution of tasks as well as for tracking the current execution point."
   ]
  },
  {
   "cell_type": "markdown",
   "id": "85b16150",
   "metadata": {},
   "source": [
    "Q7. What are the minimum expressions or statements (or both) that you'd need to render a basic\n",
    "programming language like RPN primitive but complete— that is, capable of carrying out any\n",
    "computerised task theoretically possible?"
   ]
  },
  {
   "cell_type": "code",
   "execution_count": 4,
   "id": "8d9217f7",
   "metadata": {},
   "outputs": [
    {
     "name": "stdout",
     "output_type": "stream",
     "text": [
      "2 3 /\n",
      "0.6666666666666666\n"
     ]
    }
   ],
   "source": [
    "# Reverse Polish Notation (RPN) Evaluator in Python\n",
    "import logging\n",
    "import operator as op\n",
    "import sys\n",
    "from typing import Any, List, Union\n",
    "\n",
    "logging.getLogger(__name__).setLevel(\"INFO\")\n",
    "supported_operators = {\"+\": op.add, \"-\": op.sub, \"*\": op.mul, \"/\": op.truediv}\n",
    "Number = Union[int, float]\n",
    "\n",
    "def tokenize(expr: str) -> List[str]:\n",
    "    \"\"\"Breaks expression `expr` into a list of tokens\"\"\"\n",
    "    return expr.split(\" \")\n",
    "\n",
    "def mpop(stack: List[Any], n: int = 1) -> List[Any]:\n",
    "    \"\"\"Pops and returns `n` items from a stack. Mutates `stack`\"\"\"\n",
    "    return [stack.pop() for _ in range(n)]\n",
    "\n",
    "def to_num(x: Any) -> Number:\n",
    "    \"\"\"Converts a value to a its appropriate numeric type\"\"\"\n",
    "    n = float(x)\n",
    "    return int(n) if n.is_integer() else n\n",
    "\n",
    "def consume_token(token: str, stack: List[Number]) -> List[Number]:\n",
    "    \"\"\"Consumes a token given the current stack and returns the updated stack\"\"\"\n",
    "    if token in supported_operators:\n",
    "        try:\n",
    "            num1, num2 = mpop(stack, 2)\n",
    "        except IndexError:\n",
    "            logging.error(\"SyntaxError: Malformed expression\")\n",
    "            sys.exit(1)\n",
    "\n",
    "        result = supported_operators[token](num2, num1)\n",
    "        return [*stack, result]\n",
    "    else:\n",
    "        try:\n",
    "            return [*stack, to_num(token)]\n",
    "        except ValueError:\n",
    "            logging.error(\"SyntaxError: Unsupported token '%s'\", token)\n",
    "            sys.exit(1)\n",
    "\n",
    "def get_result_from_stack(stack: List[Number]) -> Number:\n",
    "    \"\"\"Gets the result from `stack`\"\"\"\n",
    "    result, *rest = mpop(stack, 1)\n",
    "    if rest:\n",
    "        logging.error(\"SyntaxError: Found extra tokens\")\n",
    "        sys.exit(1)\n",
    "    return result\n",
    "\n",
    "def evaluate_v1(tokens: List[str]) -> Number:\n",
    "    \"\"\"Evaluates a tokenized expression and returns the result\"\"\"\n",
    "    stack: List = []\n",
    "\n",
    "    for token in tokens:\n",
    "        stack = consume_token(token, stack)\n",
    "\n",
    "    return get_result_from_stack(stack)\n",
    "\n",
    "def evaluate_v2(tokens: List[str]) -> Number:\n",
    "    \"\"\"Evaluates a tokenized expression and returns the result\"\"\"\n",
    "\n",
    "    def _evaluate(tokens: List[str], stack: List) -> Number:\n",
    "        if not tokens:\n",
    "            return get_result_from_stack(stack)\n",
    "\n",
    "        stack = consume_token(tokens[0], stack)\n",
    "\n",
    "        return _evaluate(tokens[1:], stack)\n",
    "\n",
    "    return _evaluate(tokens, [])\n",
    "\n",
    "if __name__ == \"__main__\":\n",
    "    \n",
    "    print(evaluate_v2(tokenize(input())))"
   ]
  }
 ],
 "metadata": {
  "kernelspec": {
   "display_name": "Python 3 (ipykernel)",
   "language": "python",
   "name": "python3"
  },
  "language_info": {
   "codemirror_mode": {
    "name": "ipython",
    "version": 3
   },
   "file_extension": ".py",
   "mimetype": "text/x-python",
   "name": "python",
   "nbconvert_exporter": "python",
   "pygments_lexer": "ipython3",
   "version": "3.9.7"
  }
 },
 "nbformat": 4,
 "nbformat_minor": 5
}
