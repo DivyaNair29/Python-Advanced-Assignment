{
 "cells": [
  {
   "cell_type": "markdown",
   "id": "3b5d3631",
   "metadata": {},
   "source": [
    "Q1. What is a probability distribution, exactly? If the values are meant to be random, how can you\n",
    "predict them at all?\n",
    "\n",
    "Ans: A probability distribution is a statistical function that describes all the possible values and likelihoods that a random variable can take within a given range. These factors include the distribution's mean (average), standard deviation, skewness, and kurtosis.\n",
    "\n",
    "We can predict them using following steps:\n",
    "\n",
    "Step 1: List all simple events in sample space.\n",
    "\n",
    "Step 2: Find probability for each simple event.\n",
    "\n",
    "Step 3: List possible values for random variable X and identify the value for each simple event.\n",
    "\n",
    "Step 4: Find all simple events for which X = k, for each possible value k."
   ]
  },
  {
   "cell_type": "markdown",
   "id": "d638d255",
   "metadata": {},
   "source": [
    "Q2. Is there a distinction between true random numbers and pseudo-random numbers, if there is\n",
    "one? Why are the latter considered “good enough”?\n",
    "\n",
    "Ans: The difference between true random number generators(TRNGs) and pseudo-random number generators(PRNGs) is that TRNGs use an unpredictable physical means to generate numbers (like atmospheric noise), and PRNGs use mathematical algorithms (completely computer-generated). pseudo-random number are good enough because we usually don't need true randomness for most applications. What We need is unpredictability. If we're using a random number generator in a game, we don't care if the numbers are truly random; we only care that they aren't predictable."
   ]
  },
  {
   "cell_type": "markdown",
   "id": "62ed2165",
   "metadata": {},
   "source": [
    "Q3. What are the two main factors that influence the behaviour of a 'normal' probability distribution?\n",
    "\n",
    "Ans: The first rule states that the sum of the probabilities must equal 1. \n",
    "The second rule states that each probability must be between 0 and 1, inclusive."
   ]
  },
  {
   "cell_type": "markdown",
   "id": "25e265a1",
   "metadata": {},
   "source": [
    "Q4. Provide a real-life example of a normal distribution.\n",
    "\n",
    "Ans:  Rolling A Dice\n",
    "\n",
    "A fair rolling of dice is also a good example of normal distribution. In an experiment, it has been found that when a dice is rolled 100 times, chances to get '1' are 15-18% and if we roll the dice 1000 times, the chances to get '1' is, again, the same, which averages to 16.7% (1/6)."
   ]
  },
  {
   "cell_type": "markdown",
   "id": "181abb0a",
   "metadata": {},
   "source": [
    "Q5. In the short term, how can you expect a probability distribution to behave? What do you think will\n",
    "happen as the number of trials grows?\n",
    "\n",
    "Ans:  Depends on the data for the distribution. it initially wil be rising and after a certain threshold achieving it it will go down."
   ]
  },
  {
   "cell_type": "markdown",
   "id": "7e9c04a3",
   "metadata": {},
   "source": [
    "Q6. What kind of object can be shuffled by using random.shuffle?\n",
    "\n",
    "Ans: random provides shuffle() that shuffles the original list in place, and sample() that returns a new list that is randomly shuffled. sample() can also be used for strings and tuples."
   ]
  },
  {
   "cell_type": "markdown",
   "id": "a1f51e79",
   "metadata": {},
   "source": [
    "Q7. Describe the math package's general categories of functions.\n",
    "\n",
    "Ans: sin, cos, sqrt etc"
   ]
  },
  {
   "cell_type": "markdown",
   "id": "ba9a9646",
   "metadata": {},
   "source": [
    "Q8. What is the relationship between exponentiation and logarithms?\n",
    "\n",
    "Ans: Logarithmic functions are the inverses of exponential functions. The inverse of the exponential function y = a^x is x = a^y. The logarithmic function y = log_a^x is defined to be equivalent to the exponential equation x = a^y."
   ]
  },
  {
   "cell_type": "markdown",
   "id": "d999cf75",
   "metadata": {},
   "source": [
    "Q9. What are the three logarithmic functions that Python supports?\n",
    "\n",
    "Ans: log(x, Base)\n",
    "\n",
    "log10(x)\n",
    "\n",
    "log1p(x)"
   ]
  }
 ],
 "metadata": {
  "kernelspec": {
   "display_name": "Python 3 (ipykernel)",
   "language": "python",
   "name": "python3"
  },
  "language_info": {
   "codemirror_mode": {
    "name": "ipython",
    "version": 3
   },
   "file_extension": ".py",
   "mimetype": "text/x-python",
   "name": "python",
   "nbconvert_exporter": "python",
   "pygments_lexer": "ipython3",
   "version": "3.9.7"
  }
 },
 "nbformat": 4,
 "nbformat_minor": 5
}
