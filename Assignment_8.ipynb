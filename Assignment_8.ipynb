{
 "cells": [
  {
   "cell_type": "markdown",
   "id": "3ebef982",
   "metadata": {},
   "source": [
    "Q1. What are the two latest user-defined exception constraints in Python 3.X?\n",
    "\n",
    "Ans:Python provides an exception handling method with the help of try-except. Some of the standard exceptions which are most frequent include IndexError, ImportError, IOError, ZeroDivisionError, TypeError, and FileNotFoundError."
   ]
  },
  {
   "cell_type": "markdown",
   "id": "3553c44a",
   "metadata": {},
   "source": [
    "Q2. How are class-based exceptions that have been raised matched to handlers?\n",
    "\n",
    "Ans: A class-based exception can either cancel the current context or allow for a resume. Exceptions are raised using the statement RAISE EXCEPTION and handled using CATCH in a TRY control structure. Class-based exceptions can be raised in any procedures and can be further propagated by any procedures. A common class based and user defined exception in a single program as shown in preious assignments can be division by zero."
   ]
  },
  {
   "cell_type": "markdown",
   "id": "e892338a",
   "metadata": {},
   "source": [
    "Q3. Describe two methods for attaching context information to exception artefacts.\n",
    "\n",
    "Ans: Implicit Exception Chaining AND Eexplicit Exception Chaining"
   ]
  },
  {
   "cell_type": "markdown",
   "id": "b9b9999a",
   "metadata": {},
   "source": [
    "Q4. Describe two methods for specifying the text of an exception object's error message.\n",
    "\n",
    "Ans: try, except, else and finally in else and finally even in except we can add another try except blockto raise an exception that might still come. Basically, we can raise an excepion using the except block or using raise command."
   ]
  },
  {
   "cell_type": "markdown",
   "id": "2ad8293e",
   "metadata": {},
   "source": [
    "Q5. Why do you no longer use string-based exceptions?\n",
    "\n",
    "Ans:  The obsolete AccessError exception has been deleted. Because it is possible (although unlikely) that this change broke existing code, the Python interpreter can be invoked the command line option -X to disable this feature, and use string exceptions like before. This option is a temporary measure - eventually the string-based standard exceptions will be removed from the language altogether."
   ]
  }
 ],
 "metadata": {
  "kernelspec": {
   "display_name": "Python 3 (ipykernel)",
   "language": "python",
   "name": "python3"
  },
  "language_info": {
   "codemirror_mode": {
    "name": "ipython",
    "version": 3
   },
   "file_extension": ".py",
   "mimetype": "text/x-python",
   "name": "python",
   "nbconvert_exporter": "python",
   "pygments_lexer": "ipython3",
   "version": "3.9.7"
  }
 },
 "nbformat": 4,
 "nbformat_minor": 5
}
