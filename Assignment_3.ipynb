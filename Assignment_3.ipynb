{
 "cells": [
  {
   "cell_type": "markdown",
   "id": "41e748f7",
   "metadata": {},
   "source": [
    "1. What is the concept of an abstract superclass?\n",
    "\n",
    "Ans: An abstract superclass in Python is typically created to declare a set of methods that must be created in any child class built on top of this abstract superclass. "
   ]
  },
  {
   "cell_type": "markdown",
   "id": "0a39e649",
   "metadata": {},
   "source": [
    "2. What happens when a class statement's top level contains a basic assignment statement?\n",
    "\n",
    "Ans: When a class statement's top level contains a basic assignment statement they are considered as class attributes and can be used by functions inside a class or can be called by reating a class object."
   ]
  },
  {
   "cell_type": "markdown",
   "id": "14df28f4",
   "metadata": {},
   "source": [
    "3. Why does a class need to manually call a superclass's __init__ method?\n",
    "\n",
    "Ans: To access temporary object of the superclass."
   ]
  },
  {
   "cell_type": "code",
   "execution_count": null,
   "id": "1fb78f38",
   "metadata": {},
   "outputs": [],
   "source": [
    "4. How can you augment, instead of completely replacing, an inherited method?\n",
    "\n",
    "Ans: "
   ]
  },
  {
   "cell_type": "markdown",
   "id": "0e2e09fc",
   "metadata": {},
   "source": [
    "5. How is the local scope of a class different from that of a function?\n",
    "\n",
    "Ans: Local scope : Local scope is a kind of block scope which are only visible from their point of declaration to the end of the function or lambda body.\n",
    "\n",
    "Class scope : Names of class members have class scope, which extends throughout the class definition regardless of the point of declaration."
   ]
  }
 ],
 "metadata": {
  "kernelspec": {
   "display_name": "Python 3 (ipykernel)",
   "language": "python",
   "name": "python3"
  },
  "language_info": {
   "codemirror_mode": {
    "name": "ipython",
    "version": 3
   },
   "file_extension": ".py",
   "mimetype": "text/x-python",
   "name": "python",
   "nbconvert_exporter": "python",
   "pygments_lexer": "ipython3",
   "version": "3.9.7"
  }
 },
 "nbformat": 4,
 "nbformat_minor": 5
}
