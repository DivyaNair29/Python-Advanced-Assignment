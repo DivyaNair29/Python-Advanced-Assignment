{
 "cells": [
  {
   "cell_type": "markdown",
   "id": "aa336b17",
   "metadata": {},
   "source": [
    "Q1. Which two operator overloading methods can you use in your classes to support iteration?\n",
    "\n",
    "Ans: init and str"
   ]
  },
  {
   "cell_type": "markdown",
   "id": "1033843a",
   "metadata": {},
   "source": [
    "Q2. In what contexts do the two operator overloading methods manage printing?\n",
    "\n",
    "Ans: They can manage priting or outputting values wuth return statements.\n",
    "\n",
    "In cases where the str() method is not defined, Python uses the repr() method to print the object, as well as to represent the object when str() is called on it."
   ]
  },
  {
   "cell_type": "markdown",
   "id": "9a096cf1",
   "metadata": {},
   "source": [
    "Q3. In a class, how do you intercept slice operations?"
   ]
  },
  {
   "cell_type": "code",
   "execution_count": 4,
   "id": "d4fe36f8",
   "metadata": {},
   "outputs": [
    {
     "name": "stdout",
     "output_type": "stream",
     "text": [
      "divya na\n"
     ]
    }
   ],
   "source": [
    "sliced ='divya nair'.__getitem__(slice(0, 8, 1)) #using slice() and __getitem__ slicing can be achieved in class\n",
    "print(sliced)"
   ]
  },
  {
   "cell_type": "markdown",
   "id": "68080806",
   "metadata": {},
   "source": [
    "Q4. In a class, how do you capture in-place addition?\n",
    "\n",
    "Ans: Python provides the operator x += y to add two objects in-place by calculating the sum x + y and assigning the result to the first operands variable name x. We can set up the in-place addition behavior for our own class by overriding the magic “dunder” method iadd(self, other) in our class definition."
   ]
  },
  {
   "cell_type": "markdown",
   "id": "c7be1f0d",
   "metadata": {},
   "source": [
    "Q5. When is it appropriate to use operator overloading?\n",
    "\n",
    "Ans: The operator overloading in Python means provide extended meaning beyond their predefined operational meaning. Such as, we use the \"+\" operator for adding two integers as well as joining two strings or merging two lists. We can achieve this as the \"+\" operator is overloaded by the \"int\" class and \"str\" class. Hence when we have to extended meaning beyond their predefined operational meaning we can use operator overloading,"
   ]
  }
 ],
 "metadata": {
  "kernelspec": {
   "display_name": "Python 3 (ipykernel)",
   "language": "python",
   "name": "python3"
  },
  "language_info": {
   "codemirror_mode": {
    "name": "ipython",
    "version": 3
   },
   "file_extension": ".py",
   "mimetype": "text/x-python",
   "name": "python",
   "nbconvert_exporter": "python",
   "pygments_lexer": "ipython3",
   "version": "3.9.7"
  }
 },
 "nbformat": 4,
 "nbformat_minor": 5
}
