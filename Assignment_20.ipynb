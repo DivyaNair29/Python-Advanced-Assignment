{
 "cells": [
  {
   "cell_type": "markdown",
   "id": "e2427b6b",
   "metadata": {},
   "source": [
    "1. Compare and contrast the float and Decimal classes benefits and drawbacks.\n",
    "\n",
    "Ans: Float stores an approximate value and decimal stores an exact value. In summary, exact values like money should use decimal, and approximate values like scientific measurements should use float. When multiplying a non integer and dividing by that same number, decimals lose precision while floats do not."
   ]
  },
  {
   "cell_type": "markdown",
   "id": "ebaccaab",
   "metadata": {},
   "source": [
    "2. Decimal('1.200') and Decimal('1.2') are two objects to consider. In what sense are these the same\n",
    "object? Are these just two ways of representing the exact same value, or do they correspond to\n",
    "different internal states?\n",
    "\n",
    "Ans: The output of both of them will be same this is just a way of representing precision upto 3 decimal points. The decimal class while the result will be the round off the value to 1.2 from 1.200."
   ]
  },
  {
   "cell_type": "markdown",
   "id": "35034e88",
   "metadata": {},
   "source": [
    "3. What happens if the equality of Decimal('1.200') and Decimal('1.2') is checked?\n",
    "\n",
    "Ans: Float stores an approximate value and decimal stores an exact value. So, the output will be 1.2."
   ]
  },
  {
   "cell_type": "markdown",
   "id": "3d75171a",
   "metadata": {},
   "source": [
    "4. Why is it preferable to start a Decimal object with a string rather than a floating-point value?\n",
    "\n",
    "Ans: The decimal object preferably should start with a string, as it will store the exact value and will not cause any error in future."
   ]
  },
  {
   "cell_type": "markdown",
   "id": "a4e769db",
   "metadata": {},
   "source": [
    "5. In an arithmetic phrase, how simple is it to combine Decimal objects with integers?\n",
    "\n",
    "Ans: Using '+' decimal object can be combined with integers."
   ]
  },
  {
   "cell_type": "markdown",
   "id": "cd7ac601",
   "metadata": {},
   "source": [
    "6. Can Decimal objects and floating-point values be combined easily?\n",
    "\n",
    "Ans: Decimal objects cannot generally be combined with floats or instances of fractions."
   ]
  },
  {
   "cell_type": "markdown",
   "id": "5427919b",
   "metadata": {},
   "source": [
    "7. Using the Fraction class but not the Decimal class, give an example of a quantity that can be\n",
    "expressed with absolute precision."
   ]
  },
  {
   "cell_type": "code",
   "execution_count": 3,
   "id": "da87f25d",
   "metadata": {},
   "outputs": [
    {
     "name": "stdout",
     "output_type": "stream",
     "text": [
      "10/51\n",
      "2/3\n",
      "0\n"
     ]
    }
   ],
   "source": [
    "from fractions import Fraction\n",
    "\n",
    "print (Fraction(10, 51))\n",
    "\n",
    "print (Fraction(12, 18))\n",
    "\n",
    "print (Fraction())"
   ]
  },
  {
   "cell_type": "markdown",
   "id": "8832627b",
   "metadata": {},
   "source": [
    "8. Describe a quantity that can be accurately expressed by the Decimal or Fraction classes but not by\n",
    "a floating-point value.\n",
    "\n",
    "Ans:  0.00011 is a finite representation of an infinite number of digits. That doesn't help us with floating-point. Floating-point does not represent numbers using repeat bars; it represents them with a fixed number of bits it can be represented by decimal or fraction class"
   ]
  },
  {
   "cell_type": "markdown",
   "id": "463f6baf",
   "metadata": {},
   "source": [
    "Q9.Consider the following two fraction objects: Fraction(1, 2) and Fraction(1, 2). (5, 10). Is the internal\n",
    "state of these two objects the same? Why do you think that is?\n",
    "\n",
    "Ans: The internal state is same will give fraction of 1/2."
   ]
  },
  {
   "cell_type": "markdown",
   "id": "be07100f",
   "metadata": {},
   "source": [
    "Q10. How do the Fraction class and the integer type (int) relate to each other? Containment or\n",
    "inheritance?\n",
    "\n",
    "Ans: Inheritance"
   ]
  }
 ],
 "metadata": {
  "kernelspec": {
   "display_name": "Python 3 (ipykernel)",
   "language": "python",
   "name": "python3"
  },
  "language_info": {
   "codemirror_mode": {
    "name": "ipython",
    "version": 3
   },
   "file_extension": ".py",
   "mimetype": "text/x-python",
   "name": "python",
   "nbconvert_exporter": "python",
   "pygments_lexer": "ipython3",
   "version": "3.9.7"
  }
 },
 "nbformat": 4,
 "nbformat_minor": 5
}
