{
 "cells": [
  {
   "cell_type": "markdown",
   "id": "cf37ef46",
   "metadata": {},
   "source": [
    "Q1. Does assigning a value to a string's indexed character violate Python's string immutability?\n",
    "\n",
    "Ans: In Python, strings are made immutable so that programmers cannot alter the contents of the object (even by mistake). This avoids unnecessary bugs. we can assign a value to a string's indexed character it doesn't violate Python's string immutability because for ding that we first have to split the string word into characters which leaves us with simple character string we can replace it easily with some other character but still it will be string even if the replaced value will be an interger or floting number or anything."
   ]
  },
  {
   "cell_type": "markdown",
   "id": "0bb50e89",
   "metadata": {},
   "source": [
    "Q2. Does using the += operator to concatenate strings violate Python's string immutability? Why or\n",
    "why not?\n",
    "\n",
    "Ans: If you want to concatenate a number, such as an integer int or a floating point float , with a string, convert the number to a string with str() and then use the + operator or += operator. NO, same explanation as above bcause it will still be in string type."
   ]
  },
  {
   "cell_type": "markdown",
   "id": "1fc3a987",
   "metadata": {},
   "source": [
    "Q3. In Python, how many different ways are there to index a character?\n",
    "\n",
    "Ans:  Each of a string's characters corresponds to an index number and each character can be accessed using their index number. We can access characters in a String in Two ways :\n",
    "\n",
    "    1) Accessing Characters by Positive Index Number.\n",
    "    2) Accessing Characters by Negative Index Number.\n"
   ]
  },
  {
   "cell_type": "markdown",
   "id": "b964326e",
   "metadata": {},
   "source": [
    "Q4. What is the relationship between indexing and slicing?\n",
    "\n",
    "Ans: “Indexing” means referring to an element of an iterable by its position within the iterable. “Slicing” means getting a subset of elements from an iterable based on their indices."
   ]
  },
  {
   "cell_type": "markdown",
   "id": "b7be7db8",
   "metadata": {},
   "source": [
    "Q5. What is an indexed character's exact data type? What is the data form of a slicing-generated\n",
    "substring?\n",
    "\n",
    "Ans: The type in slicing remains the same type in which it is entered. But in indexing the tye may differ. An examle is shown below to explain this."
   ]
  },
  {
   "cell_type": "code",
   "execution_count": 1,
   "id": "e8f6a599",
   "metadata": {},
   "outputs": [
    {
     "name": "stdout",
     "output_type": "stream",
     "text": [
      "<class 'int'>\n"
     ]
    }
   ],
   "source": [
    "l = [1,2,3,4,5]\n",
    "print(type(l[2]))\n",
    "     "
   ]
  },
  {
   "cell_type": "code",
   "execution_count": 2,
   "id": "1643a9f6",
   "metadata": {},
   "outputs": [
    {
     "name": "stdout",
     "output_type": "stream",
     "text": [
      "<class 'list'>\n",
      "[1]\n",
      "<class 'list'>\n"
     ]
    }
   ],
   "source": [
    "l = [1,2,3,4,5]\n",
    "print(type(l))\n",
    "print(l[:1])\n",
    "print(type(l[:1]))"
   ]
  },
  {
   "cell_type": "markdown",
   "id": "d5e5216e",
   "metadata": {},
   "source": [
    "Q6. What is the relationship between string and character 'types' in Python?\n",
    "\n",
    "Ans: In Python, Strings are arrays of bytes representing Unicode characters. However, Python does not have a character data type, a single character is simply a string with a length of 1. Square brackets can be used to access elements of the string."
   ]
  },
  {
   "cell_type": "markdown",
   "id": "e9916f7f",
   "metadata": {},
   "source": [
    "Q7. Identify at least two operators and one method that allow you to combine one or more smaller\n",
    "strings to create a larger string.\n",
    "\n",
    "Ans: operators are + and *\n",
    "\n",
    "method: format() or join()"
   ]
  },
  {
   "cell_type": "markdown",
   "id": "5646113a",
   "metadata": {},
   "source": [
    "Q8. What is the benefit of first checking the target string with in or not in before using the index\n",
    "method to find a substring?\n",
    "\n",
    "Ans: set() helps us in knowing if there are't any repeatable words or items in the string and returns us a list sor set with only single entry of a particular item."
   ]
  },
  {
   "cell_type": "markdown",
   "id": "86b58815",
   "metadata": {},
   "source": [
    "Q9. Which operators and built-in string methods produce simple Boolean (true/false) results?\n",
    "\n",
    "Ans: operators : = , < , >\n",
    "\n",
    "methods: bool()"
   ]
  }
 ],
 "metadata": {
  "kernelspec": {
   "display_name": "Python 3 (ipykernel)",
   "language": "python",
   "name": "python3"
  },
  "language_info": {
   "codemirror_mode": {
    "name": "ipython",
    "version": 3
   },
   "file_extension": ".py",
   "mimetype": "text/x-python",
   "name": "python",
   "nbconvert_exporter": "python",
   "pygments_lexer": "ipython3",
   "version": "3.9.7"
  }
 },
 "nbformat": 4,
 "nbformat_minor": 5
}
