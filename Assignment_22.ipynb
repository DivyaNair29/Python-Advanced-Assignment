{
 "cells": [
  {
   "cell_type": "markdown",
   "id": "8d546ee3",
   "metadata": {},
   "source": [
    "Q1. What are the benefits of the built-in array package, if any?\n",
    "\n",
    "Ans: The Array is much more rigid. That is, the items that an array contains must be of the same type. Therefore, the size of the item will also be the same. We can check the size of each item."
   ]
  },
  {
   "cell_type": "markdown",
   "id": "c8de1165",
   "metadata": {},
   "source": [
    "Q2. What are some of the array package's limitations?\n",
    "\n",
    "Ans: An array which is formed will be homogeneous.\n",
    "While declaring an array, passing size of an array is compulsory, and the size must be a constant.\n",
    "Shifting is required for insertion or deletion of elements in an array"
   ]
  },
  {
   "cell_type": "markdown",
   "id": "8829c237",
   "metadata": {},
   "source": [
    "Q3. Describe the main differences between the array and numpy packages.\n",
    "\n",
    "Ans: A numpy array is a grid of values, all of the same type, and is indexed by a tuple of nonnegative integers. A list is the Python equivalent of an array, but is resizeable and can contain elements of different types. The answer to above query the main difference in two is of performance."
   ]
  },
  {
   "cell_type": "markdown",
   "id": "66fb4c10",
   "metadata": {},
   "source": [
    "Q4. Explain the distinctions between the empty, ones, and zeros functions.\n",
    "\n",
    "Ans: The difference is that empty uses malloc and zeros uses calloc. Also zeros() and ones() are the NumPy library functions to create two different arrays. zeros() function is used to create an array based on the particular shape and type. All array elements are initialized to 0, which is created by the zeros() function. ones() function works like the zeros() function."
   ]
  },
  {
   "cell_type": "markdown",
   "id": "9b6e3d03",
   "metadata": {},
   "source": [
    "Q5. In the fromfunction function, which is used to construct new arrays, what is the role of the callable\n",
    "argument?\n",
    "\n",
    "Ans:  fromfunction() function construct an array by executing a function over each coordinate and the resulting array, therefore, has a value fn(x, y, z) at coordinate (x, y, z). Parameters : function : [callable] The function is called with N parameters, where N is the rank of shape."
   ]
  },
  {
   "cell_type": "markdown",
   "id": "3136c16a",
   "metadata": {},
   "source": [
    "Q6. What happens when a numpy array is combined with a single-value operand (a scalar, such as\n",
    "an int or a floating-point value) through addition, as in the expression A + n?"
   ]
  },
  {
   "cell_type": "code",
   "execution_count": 1,
   "id": "1e7a516b",
   "metadata": {},
   "outputs": [
    {
     "name": "stdout",
     "output_type": "stream",
     "text": [
      "[2 3 4 5 6]\n"
     ]
    }
   ],
   "source": [
    "import numpy as np\n",
    "\n",
    "arr = np.array((1, 2, 3, 4, 5))\n",
    "\n",
    "print(arr + 1)"
   ]
  },
  {
   "cell_type": "markdown",
   "id": "83a38ff3",
   "metadata": {},
   "source": [
    "Q7. Can array-to-scalar operations use combined operation-assign operators (such as += or *=)?\n",
    "What is the outcome?\n",
    "\n",
    "Ans: No, it will show error (Invalid Syntax)."
   ]
  },
  {
   "cell_type": "markdown",
   "id": "0b065be8",
   "metadata": {},
   "source": [
    "Q8. Does a numpy array contain fixed-length strings? What happens if you allocate a longer string to\n",
    "one of these arrays?\n",
    "\n",
    "Ans: NumPy arrays have a fixed size at creation, unlike Python lists (which can grow dynamically). Changing the size of an ndarray will create a new array and delete the original. The elements in a NumPy array are all required to be of the same data type, and thus will be the same size in memory. if longer strings is allocateed it might cause a computation problem basically increse the time complexity."
   ]
  },
  {
   "cell_type": "markdown",
   "id": "1839e58b",
   "metadata": {},
   "source": [
    "Q9. What happens when you combine two numpy arrays using an operation like addition (+) or\n",
    "multiplication (*)? What are the conditions for combining two numpy arrays?\n",
    "\n",
    "Ans: NumPy's concatenate function can be used to concatenate two arrays either row-wise or column-wise. Concatenate function can take two or more arrays of the same shape and by default it concatenates row-wise i.e. axis=0. The resulting array after row-wise concatenation is of the shape 6 x 3, i.e. 6 rows and 3 columns."
   ]
  },
  {
   "cell_type": "markdown",
   "id": "17d666e8",
   "metadata": {},
   "source": [
    "Q10. What is the best way to use a Boolean array to mask another array?\n",
    "\n",
    "Ans:  Boolean masking is typically the most efficient way to quantify a sub-collection in a collection. Masking in python and data science is when you want manipulated data in a collection based on some criteria. The criteria you use is typically of a true or false nature, hence the boolean part.\n",
    "\n",
    "Using masked_where() function: Pass the two array in the function as a parameter then use numpy. ma. masked_where() function in which pass the condition for masking and array to be masked.\n",
    "\n",
    "Using masked_where(), getmask() and masked_array() function: Pass the two array in the function as a parameter then use numpy. ma."
   ]
  },
  {
   "cell_type": "markdown",
   "id": "a22a9f0a",
   "metadata": {},
   "source": [
    "Q11. What are three different ways to get the standard deviation of a wide collection of data using\n",
    "both standard Python and its packages? Sort the three of them by how quickly they execute.\n",
    "\n",
    "Ans: one method is shown below standar then we can use pandas or using srpiting line by line to ding standard deviation. using pandas std() is generally nicer way and faster."
   ]
  },
  {
   "cell_type": "code",
   "execution_count": 3,
   "id": "dc9e3fd1",
   "metadata": {},
   "outputs": [
    {
     "data": {
      "text/plain": [
       "2.4"
      ]
     },
     "execution_count": 3,
     "metadata": {},
     "output_type": "execute_result"
    }
   ],
   "source": [
    "import math\n",
    "def variance(data, ddof=0):\n",
    "  n = len(data)\n",
    "  mean = sum(data) / n\n",
    "  return sum((x - mean) ** 2 for x in data) / (n - ddof)\n",
    "\n",
    "\n",
    "def stdev(data):\n",
    "  var = variance(data)\n",
    "  std_dev = math.sqrt(var)\n",
    "  return std_dev\n",
    "\n",
    "stdev([4, 8, 6, 5, 3, 2, 8, 9, 2, 5])"
   ]
  },
  {
   "cell_type": "markdown",
   "id": "ae5b21fb",
   "metadata": {},
   "source": [
    "Q12. What is the dimensionality of a Boolean mask-generated array?"
   ]
  },
  {
   "cell_type": "code",
   "execution_count": 4,
   "id": "f75151df",
   "metadata": {},
   "outputs": [
    {
     "name": "stdout",
     "output_type": "stream",
     "text": [
      "[[[[-- 11]\n",
      "   [-- 22]\n",
      "   [3 33]]\n",
      "\n",
      "  [[4 44]\n",
      "   [5 55]\n",
      "   [6 66]]]\n",
      "\n",
      "\n",
      " [[[7 77]\n",
      "   [8 88]\n",
      "   [9 99]]\n",
      "\n",
      "  [[-- 32]\n",
      "   [-- 33]\n",
      "   [-- 34]]]]\n"
     ]
    }
   ],
   "source": [
    "import numpy as np\n",
    "\n",
    "arr = np.asarray([[[[1, 11], [2, 22], [3, 33]],\n",
    "                   [[4, 44], [5, 55], [6, 66]]],\n",
    "                  [[[7, 77], [8, 88], [9, 99]],\n",
    "                   [[0, 32], [1, 33], [2, 34]]]])\n",
    "\n",
    "masked_arr = np.ma.masked_less(arr, 3)\n",
    "\n",
    "print(masked_arr)"
   ]
  }
 ],
 "metadata": {
  "kernelspec": {
   "display_name": "Python 3 (ipykernel)",
   "language": "python",
   "name": "python3"
  },
  "language_info": {
   "codemirror_mode": {
    "name": "ipython",
    "version": 3
   },
   "file_extension": ".py",
   "mimetype": "text/x-python",
   "name": "python",
   "nbconvert_exporter": "python",
   "pygments_lexer": "ipython3",
   "version": "3.9.7"
  }
 },
 "nbformat": 4,
 "nbformat_minor": 5
}
