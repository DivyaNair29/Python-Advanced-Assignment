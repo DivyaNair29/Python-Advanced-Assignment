{
 "cells": [
  {
   "cell_type": "markdown",
   "id": "1d073df6",
   "metadata": {},
   "source": [
    "Q1. In Python 3.X, what are the names and functions of string object types?\n",
    "\n",
    "Ans: There are many string functions some of them are mentioned below isascii(), islower(), isdigit(), upper(), lower(), lstrip(). rstrip()\n",
    "\n",
    "Basically after definign the string we can use (dot) and them tab in jupyter notebook or ctrl+space in colab to access these we don't need to remember them."
   ]
  },
  {
   "cell_type": "markdown",
   "id": "74f07017",
   "metadata": {},
   "source": [
    "Q2. How do the string forms in Python 3.X vary in terms of operations?\n",
    "\n",
    "Ans: The type can be used with format codes just add a % symbol before them :\n",
    "\n",
    "    ‘d’ for integers\n",
    "    ‘f’ for floating-point numbers\n",
    "    ‘b’ for binary numbers\n",
    "    ‘o’ for octal numbers\n",
    "    ‘x’ for octal hexadecimal numbers\n",
    "    ‘s’ for string\n",
    "    ‘e’ for floating-point in an exponent format\n"
   ]
  },
  {
   "cell_type": "markdown",
   "id": "a6f1e2d7",
   "metadata": {},
   "source": [
    "Q3. In 3.X, how do you put non-ASCII Unicode characters in a string?\n",
    "\n",
    "Ans:  In order to use non-ASCII characters, Python requires explicit encoding and decoding of strings into Unicode. we can check using the ascii value using ord()"
   ]
  },
  {
   "cell_type": "markdown",
   "id": "2876deec",
   "metadata": {},
   "source": [
    "Q4. In Python 3.X, what are the key differences between text-mode and binary-mode files?\n",
    "\n",
    "Ans: The major difference between these two is that a text file contains textual information in the form of alphabets, digits and special characters or symbols. On the other hand, a binary file contains bytes or a compiled version of a text file."
   ]
  },
  {
   "cell_type": "markdown",
   "id": "db01c759",
   "metadata": {},
   "source": [
    "Q5. How can you interpret a Unicode text file containing text encoded in a different encoding than\n",
    "your platform&#39;s default?\n",
    "\n",
    "Ans: We can do it by hit and trieal trying different types of ending like utf-8, utf-16 etc."
   ]
  },
  {
   "cell_type": "markdown",
   "id": "079e9528",
   "metadata": {},
   "source": [
    "Q6. What is the best way to make a Unicode text file in a particular encoding format?"
   ]
  },
  {
   "cell_type": "code",
   "execution_count": null,
   "id": "85e9accd",
   "metadata": {},
   "outputs": [],
   "source": [
    "unicode_text = u'ʑʒʓʔʕʗʘʙʚʛʜʝʞ'\n",
    "encoded_unicode = unicode_text.encode(\"utf8\")\n",
    "\n",
    "a_file = open(\"textfile.txt\", \"wb\")\n",
    "a_file.write(encoded_unicode)\n",
    "\n",
    "a_file = open(\"textfile.txt\", \"r\")#r reads contents of a file\n",
    "\n",
    "contents = a_file.read()\n",
    "\n",
    "print(contents)"
   ]
  },
  {
   "cell_type": "markdown",
   "id": "cb0e0ebb",
   "metadata": {},
   "source": [
    "Q7. What qualifies ASCII text as a form of Unicode text?\n",
    "\n",
    "Ans: The first 128 Unicode code points represent the ASCII characters, which means that any ASCII text is also a UTF-8 text. As long as it contains no code points in the reserved range U+D800–U+DFFF, a UCS-2 text is valid UTF-16 text.\n",
    "\n",
    "Encoding formats: UTF-8; UTF-16; GB18030;\n",
    "\n",
    "Standard: Unicode Standard\n",
    "\n",
    "Alias(es): Universal Coded Character Set (UCS)"
   ]
  }
 ],
 "metadata": {
  "kernelspec": {
   "display_name": "Python 3 (ipykernel)",
   "language": "python",
   "name": "python3"
  },
  "language_info": {
   "codemirror_mode": {
    "name": "ipython",
    "version": 3
   },
   "file_extension": ".py",
   "mimetype": "text/x-python",
   "name": "python",
   "nbconvert_exporter": "python",
   "pygments_lexer": "ipython3",
   "version": "3.9.7"
  }
 },
 "nbformat": 4,
 "nbformat_minor": 5
}
