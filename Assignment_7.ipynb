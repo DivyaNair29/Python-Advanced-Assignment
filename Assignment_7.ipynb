{
 "cells": [
  {
   "cell_type": "markdown",
   "id": "98169a96",
   "metadata": {},
   "source": [
    "Q1. What is the purpose of the try statement?\n",
    "\n",
    "Ans:  The try statement allows a programmer to define a block of code to be tested for errors while it is being executed. The catch statement allows you to define a block of code to be executed, if an error occurs in the try block."
   ]
  },
  {
   "cell_type": "markdown",
   "id": "1da9c175",
   "metadata": {},
   "source": [
    "Q2. What are the two most popular try statement variations?\n",
    "\n",
    "Ans: Variation 1:\n",
    "\n",
    "try: # Some Code except: # Executed if error in the # try block\n",
    "\n",
    "Variation 2:\n",
    "\n",
    "try: # Some Code except: # Executed if error in the # try block else: # execute if no exception"
   ]
  },
  {
   "cell_type": "markdown",
   "id": "e1d47390",
   "metadata": {},
   "source": [
    "Q3. What is the purpose of the raise statement?\n",
    "\n",
    "Ans: The raise keyword is used to raise an exception. We can define what kind of error to raise, and the text to print to the user."
   ]
  },
  {
   "cell_type": "markdown",
   "id": "482941c2",
   "metadata": {},
   "source": [
    "Q4. What does the assert statement do, and what other statement is it like?\n",
    "\n",
    "Ans: An assert statement checks whether a condition is true. If a condition evaluates to True, a program will keep running. If a condition is false, the program will return an AssertionError. At this point, the program will stop executing. Assertion is like raise statement."
   ]
  },
  {
   "cell_type": "markdown",
   "id": "c9543b01",
   "metadata": {},
   "source": [
    "Q5. What is the purpose of the with/as argument, and what other statement is it like?\n",
    "\n",
    "Ans: The with statement in Python is used for resource management and exception handling. We use it while working with file streams. For example, the statement ensures that the file stream process doesn't block other processes if an exception is raised, but terminates properly. We can use a try statement or block it is somewhat similar to with."
   ]
  }
 ],
 "metadata": {
  "kernelspec": {
   "display_name": "Python 3 (ipykernel)",
   "language": "python",
   "name": "python3"
  },
  "language_info": {
   "codemirror_mode": {
    "name": "ipython",
    "version": 3
   },
   "file_extension": ".py",
   "mimetype": "text/x-python",
   "name": "python",
   "nbconvert_exporter": "python",
   "pygments_lexer": "ipython3",
   "version": "3.9.7"
  }
 },
 "nbformat": 4,
 "nbformat_minor": 5
}
