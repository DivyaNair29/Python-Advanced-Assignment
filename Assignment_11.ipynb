{
 "cells": [
  {
   "cell_type": "markdown",
   "id": "4ffe3d55",
   "metadata": {},
   "source": [
    "Q1. What is the concept of a metaclass?\n",
    "\n",
    "Ans: A metaclass is a class whose instances are classes. Just as an ordinary class defines the behavior of certain objects, a metaclass defines the behavior of certain classes and their instances. It can be used when you want to modify the class name or list of base classes, because once defined, these parameters are baked into the class, and no decorator or function can unbake them."
   ]
  },
  {
   "cell_type": "markdown",
   "id": "be6ee6b2",
   "metadata": {},
   "source": [
    "Q2. What is the best way to declare a class's metaclass?\n"
   ]
  },
  {
   "cell_type": "code",
   "execution_count": 2,
   "id": "5c24171a",
   "metadata": {},
   "outputs": [
    {
     "name": "stdout",
     "output_type": "stream",
     "text": [
      "True\n",
      "True\n",
      "True\n"
     ]
    }
   ],
   "source": [
    "n = 3\n",
    "d = { 'x' : 4, 'y' : 2 }\n",
    "class Foo:\n",
    "     pass\n",
    "x = Foo()\n",
    "for obj in (n, d, x):\n",
    "  print(type(obj) is obj.__class__)\n",
    "     "
   ]
  },
  {
   "cell_type": "markdown",
   "id": "2046676e",
   "metadata": {},
   "source": [
    "Q3. How do class decorators overlap with metaclasses for handling classes?\n",
    "\n",
    "Ans: Decorators are much, much simpler and more limited and therefore should be preferred whenever the desired effect can be achieved with either a metaclass or a class decorator.\n",
    "Anything can be done with a class decorator, we can of course do with a custom metaclass (just apply the functionality of the \"decorator function\", i.e., the one that takes a class object and modifies it, in the course of the metaclass's new or init that make the class object."
   ]
  },
  {
   "cell_type": "markdown",
   "id": "782d5a53",
   "metadata": {},
   "source": [
    "Q4. How do class decorators overlap with metaclasses for handling instances?\n",
    "\n",
    "Ans:  Decorators can be used to manage both instances and classes, and they intersect with metaclasses in the second of these roles."
   ]
  }
 ],
 "metadata": {
  "kernelspec": {
   "display_name": "Python 3 (ipykernel)",
   "language": "python",
   "name": "python3"
  },
  "language_info": {
   "codemirror_mode": {
    "name": "ipython",
    "version": 3
   },
   "file_extension": ".py",
   "mimetype": "text/x-python",
   "name": "python",
   "nbconvert_exporter": "python",
   "pygments_lexer": "ipython3",
   "version": "3.9.7"
  }
 },
 "nbformat": 4,
 "nbformat_minor": 5
}
