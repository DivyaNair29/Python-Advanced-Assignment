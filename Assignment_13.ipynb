{
 "cells": [
  {
   "cell_type": "markdown",
   "id": "edbab286",
   "metadata": {},
   "source": [
    "Q1. Can you create a programme or function that employs both positive and negative indexing? Is\n",
    "there any repercussion if you do so?\n",
    "\n",
    "Ans: There are no repurcussions."
   ]
  },
  {
   "cell_type": "code",
   "execution_count": 1,
   "id": "c5e6e839",
   "metadata": {},
   "outputs": [
    {
     "name": "stdout",
     "output_type": "stream",
     "text": [
      "d\n",
      "a\n"
     ]
    }
   ],
   "source": [
    "def divya():\n",
    "\n",
    "  greetings = \"divya\"\n",
    "  print(greetings[0]) \n",
    "  print(greetings[-1])\n",
    "\n",
    "divya()"
   ]
  },
  {
   "cell_type": "markdown",
   "id": "31f6182c",
   "metadata": {},
   "source": [
    "Q2. What is the most effective way of starting with 1,000 elements in a Python list? Assume that all\n",
    "elements should be set to the same value.\n",
    "\n",
    "Ans: List comprehension and * operator are fastest followed by while and for loop for loop in list."
   ]
  },
  {
   "cell_type": "code",
   "execution_count": 4,
   "id": "3b2a268d",
   "metadata": {},
   "outputs": [
    {
     "name": "stdout",
     "output_type": "stream",
     "text": [
      "Average time taken by for loop: 0.005080165863037109\n",
      "Average time taken by while loop: 0.008075695037841796\n",
      "Average time taken by list comprehensions: 0.0016132616996765137\n",
      "Average time taken by * operator: 0.00019959926605224608\n"
     ]
    }
   ],
   "source": [
    "import time\n",
    "forLoopTime = []\n",
    "whileLoopTime = []\n",
    "listComprehensionTime = []\n",
    "starOperatorTime = []\n",
    "# repeat the process for 500 times and calculate average of times taken.\n",
    "for k in range(500):\n",
    "    # start time\n",
    "    start = time.time()\n",
    "    # declare empty list\n",
    "    a = []\n",
    "    # run a for loop for 10000 times\n",
    "    for i in range(10000):\n",
    "        a.append(0)\n",
    "    # stop time\n",
    "    stop = time.time()\n",
    "    forLoopTime.append(stop-start)\n",
    "    # start time\n",
    "    start = time.time()\n",
    "    # declare an empty list\n",
    "    a = []\n",
    "    i = 0\n",
    "    # run a for loop 10000 times\n",
    "    while(i<10000):\n",
    "        a.append(0)\n",
    "        i+= 1\n",
    "    stop = time.time()\n",
    "    whileLoopTime.append(stop-start)\n",
    "\n",
    "    start = time.time()\n",
    "    # list comprehension to initialize list\n",
    "    a = [0 for i in range(10000)]\n",
    "    stop = time.time()\n",
    "    listComprehensionTime.append(stop-start)\n",
    "\n",
    "    start = time.time()\n",
    "    # using the * operator\n",
    "    a = [0]*10000\n",
    "    stop = time.time()\n",
    "    starOperatorTime.append(stop-start)\n",
    "\n",
    "print(\"Average time taken by for loop: \" + str(sum(forLoopTime)/100))\n",
    "print(\"Average time taken by while loop: \" + str(sum(whileLoopTime)/100))\n",
    "print(\"Average time taken by list comprehensions: \" + str(sum(listComprehensionTime)/100))#runnerup\n",
    "print(\"Average time taken by * operator: \" + str(sum(starOperatorTime)/100))\t#fastest"
   ]
  },
  {
   "cell_type": "markdown",
   "id": "a86ca366",
   "metadata": {},
   "source": [
    "Q3. How do you slice a list to get any other part while missing the rest? (For example, suppose you\n",
    "want to make a new list with the elements first, third, fifth, seventh, and so on.)"
   ]
  },
  {
   "cell_type": "code",
   "execution_count": 5,
   "id": "e685949d",
   "metadata": {},
   "outputs": [
    {
     "name": "stdout",
     "output_type": "stream",
     "text": [
      "[1, 3, 5, 7, 9, 11]\n"
     ]
    }
   ],
   "source": [
    "b = [1,2,3,4,5,6,7,8,9,10,11,12]\n",
    "print(b[::2])"
   ]
  },
  {
   "cell_type": "markdown",
   "id": "7e57f80d",
   "metadata": {},
   "source": [
    "Q4. Explain the distinctions between indexing and slicing.\n",
    "\n",
    "Ans:  “Indexing” means referring to an element of an iterable by its position within the iterable. “Slicing” means getting a subset of elements from an iterable based on their indices."
   ]
  },
  {
   "cell_type": "markdown",
   "id": "7df5b944",
   "metadata": {},
   "source": [
    "Q5. What happens if one of the slicing expression&#39;s indexes is out of range?\n",
    "\n",
    "Ans: It returns empty list."
   ]
  },
  {
   "cell_type": "code",
   "execution_count": 6,
   "id": "c786c84e",
   "metadata": {},
   "outputs": [
    {
     "name": "stdout",
     "output_type": "stream",
     "text": [
      "[]\n"
     ]
    }
   ],
   "source": [
    "b = [1,2,3,4,5,6,7,8,9,10,11,12]\n",
    "print(b[34:44:1])"
   ]
  },
  {
   "cell_type": "markdown",
   "id": "ff3133da",
   "metadata": {},
   "source": [
    "Q6. If you pass a list to a function, and if you want the function to be able to change the values of the\n",
    "list—so that the list is different after the function returns—what action should you avoid?\n",
    "\n",
    "Ans: The list will change list are mutable but we can also prevent that by creating a deepcopy of it before."
   ]
  },
  {
   "cell_type": "markdown",
   "id": "b4a5497d",
   "metadata": {},
   "source": [
    "Q7. What is the concept of an unbalanced matrix?\n",
    "\n",
    "Ans: A matrix is balanced if all cells in the matrix are balanced and a cell of the matrix is balanced if the number of cells in that matrix that are adjacent to that cell is strictly greater than the value written in this cell."
   ]
  },
  {
   "cell_type": "markdown",
   "id": "e6bf7736",
   "metadata": {},
   "source": [
    "Q8. Why is it necessary to use either list comprehension or a loop to create arbitrarily large matrices?\n",
    "\n",
    "Ans: List comprehension or a loop specifically list comprehension can simplify our code, but if you put too much logic inside, they will instead become harder to read and understand. Loop specifically are also fast as we have seen in previous questions using time."
   ]
  }
 ],
 "metadata": {
  "kernelspec": {
   "display_name": "Python 3 (ipykernel)",
   "language": "python",
   "name": "python3"
  },
  "language_info": {
   "codemirror_mode": {
    "name": "ipython",
    "version": 3
   },
   "file_extension": ".py",
   "mimetype": "text/x-python",
   "name": "python",
   "nbconvert_exporter": "python",
   "pygments_lexer": "ipython3",
   "version": "3.9.7"
  }
 },
 "nbformat": 4,
 "nbformat_minor": 5
}
