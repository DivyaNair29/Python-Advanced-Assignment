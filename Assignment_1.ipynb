{
 "cells": [
  {
   "cell_type": "markdown",
   "id": "b70355b5",
   "metadata": {},
   "source": [
    "Q1. What is the purpose of Python's OOP?\n",
    "\n",
    "Ans. Object-Oriented Programming (OOPs) uses objects and classes in programming. The main purpose of OOPs is to bind the data and functions that work together as a single unit so that no other part of the code can access this data."
   ]
  },
  {
   "cell_type": "markdown",
   "id": "51d234ad",
   "metadata": {},
   "source": [
    "Q2. Where does an inheritance search look for an attribute?\n",
    "\n",
    "Ans. An inheritance search look for an attrubute in the instance object, then in the class the object was created from and then in all higher superclasses."
   ]
  },
  {
   "cell_type": "markdown",
   "id": "a1b29975",
   "metadata": {},
   "source": [
    "Q3. How do you distinguish between a class object and an instance object?\n",
    "\n",
    "Ans. The main difference between class object and instance object is that class objects represent the class itself, while instance objects represent individual instances of the class. The class objects can have class-level attributes and methods that are shared among all instances of the class, while instance objects have their own set of attributes and methods that are independent of other instances of the same class."
   ]
  },
  {
   "cell_type": "markdown",
   "id": "eee003ec",
   "metadata": {},
   "source": [
    "Q4. What makes the first argument in a class’s method function special?\n",
    "\n",
    "Ans: It always receives the instance object that is the implied subject of the method call. It’s usually called ‘self’ by convention."
   ]
  },
  {
   "cell_type": "markdown",
   "id": "1dee48ed",
   "metadata": {},
   "source": [
    "Q5. What is the purpose of the __init__ method?\n",
    "\n",
    "Ans: If the __init__ method is coded or inherited in a class, Python calls it automatically each time an instance of that class is created."
   ]
  },
  {
   "cell_type": "markdown",
   "id": "7fc75711",
   "metadata": {},
   "source": [
    "Q6. What is the process for creating a class instance?\n",
    "\n",
    "Ans: Class Instance can be created by calling the class name, any arguments passed into the class name show up as arguments two and beyond in the __init__ constructor method.\n",
    "\n",
    "For Example - \n",
    "a = ClassName() , \n",
    "b = ClassName1(arg1,arg2)"
   ]
  },
  {
   "cell_type": "markdown",
   "id": "4ab043ad",
   "metadata": {},
   "source": [
    "Q7. What is the process for creating a class?\n",
    "\n",
    "Ans: class ClassName():                 "
   ]
  },
  {
   "cell_type": "markdown",
   "id": "69fc973d",
   "metadata": {},
   "source": [
    "Q8. How would you define the superclasses of a class?\n",
    "\n",
    "Ans: They are classes which are used to inherit from.\n",
    "\n",
    "class Son(Father, Mother): …\n",
    "\n",
    "In this case Father and Mother are superclasses for Son subclass.\n"
   ]
  }
 ],
 "metadata": {
  "kernelspec": {
   "display_name": "Python 3 (ipykernel)",
   "language": "python",
   "name": "python3"
  },
  "language_info": {
   "codemirror_mode": {
    "name": "ipython",
    "version": 3
   },
   "file_extension": ".py",
   "mimetype": "text/x-python",
   "name": "python",
   "nbconvert_exporter": "python",
   "pygments_lexer": "ipython3",
   "version": "3.9.7"
  }
 },
 "nbformat": 4,
 "nbformat_minor": 5
}
